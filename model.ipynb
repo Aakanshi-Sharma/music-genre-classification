{
 "cells": [
  {
   "cell_type": "code",
   "execution_count": 1,
   "id": "ea3789ec",
   "metadata": {},
   "outputs": [],
   "source": [
    "import numpy as np\n",
    "import pandas as pd\n",
    "import matplotlib.pyplot as plt\n",
    "from python_speech_features import mfcc\n",
    "import scipy.io.wavfile as wav\n",
    "from tempfile import TemporaryFile\n",
    "import os\n",
    "import pickle\n",
    "import random \n",
    "import operator\n",
    "import math"
   ]
  },
  {
   "cell_type": "code",
   "execution_count": 2,
   "id": "66f0d582",
   "metadata": {},
   "outputs": [],
   "source": [
    "audio_features=[]\n",
    "labels=[]"
   ]
  },
  {
   "cell_type": "code",
   "execution_count": 3,
   "id": "26cfcb73",
   "metadata": {},
   "outputs": [],
   "source": [
    "def extract_features(file_path):\n",
    "    (rate, sig)=wav.read(file_path)\n",
    "    mfcc_feat=mfcc(sig, rate, winlen=0.020, appendEnergy = False)\n",
    "    return  mfcc_feat"
   ]
  },
  {
   "cell_type": "code",
   "execution_count": 4,
   "id": "c0e20e35",
   "metadata": {},
   "outputs": [
    {
     "name": "stdout",
     "output_type": "stream",
     "text": [
      "[[ 52.32772636  12.27974663 -14.05910548 ...  -0.2150729   10.56329052\n",
      "   -7.87888343]\n",
      " [ 54.98108456  16.45550208 -19.12696735 ... -11.48633547   3.45238194\n",
      "   -7.25151242]\n",
      " [ 62.43432252   2.47227707  -2.81401672 ... -10.43204984  -2.66200942\n",
      "    2.29782969]\n",
      " ...\n",
      " [ 77.41351398  -3.69330514   2.91007987 ... -10.29548132   3.28747789\n",
      "    8.65780958]\n",
      " [ 77.4757659   -5.02653026   5.39881623 ... -10.59178905   0.9218981\n",
      "    5.95638195]\n",
      " [ 76.60870935  -3.13448805   5.46082437 ... -13.14580229  -0.44330338\n",
      "    8.73963484]]\n"
     ]
    }
   ],
   "source": [
    "print(extract_features(\"data/blues/blues.00001.wav\"))"
   ]
  },
  {
   "cell_type": "code",
   "execution_count": 5,
   "id": "cfe7adc7",
   "metadata": {},
   "outputs": [],
   "source": [
    "folder_path=\"data/\"\n",
    "genres=os.listdir(folder_path)\n",
    "for folder in genres:\n",
    "    subfolder_path=os.path.join(folder_path, folder)\n",
    "    lists=os.listdir(subfolder_path)\n",
    "    for j in lists:\n",
    "        song_path=os.path.join(subfolder_path, j)\n",
    "        audio_features.append(extract_features(song_path))\n",
    "        labels.append(folder)\n"
   ]
  },
  {
   "cell_type": "code",
   "execution_count": 6,
   "id": "30095a16",
   "metadata": {},
   "outputs": [
    {
     "name": "stdout",
     "output_type": "stream",
     "text": [
      "['blues', 'blues', 'blues', 'blues', 'blues', 'blues', 'blues', 'blues', 'blues', 'blues', 'blues', 'classical', 'classical', 'classical', 'classical', 'classical', 'classical', 'classical', 'classical', 'classical', 'classical', 'country', 'country', 'country', 'country', 'country', 'country', 'country', 'country', 'country', 'country', 'disco', 'disco', 'disco', 'disco', 'disco', 'disco', 'disco', 'disco', 'disco', 'disco', 'hiphop', 'hiphop', 'hiphop', 'hiphop', 'hiphop', 'hiphop', 'hiphop', 'hiphop', 'hiphop', 'hiphop']\n"
     ]
    }
   ],
   "source": [
    "print(labels)"
   ]
  },
  {
   "cell_type": "code",
   "execution_count": 27,
   "id": "ff0e9d25",
   "metadata": {},
   "outputs": [
    {
     "name": "stdout",
     "output_type": "stream",
     "text": [
      "(2994, 13)\n"
     ]
    }
   ],
   "source": [
    "print(audio_features[4].shape)"
   ]
  },
  {
   "cell_type": "code",
   "execution_count": 8,
   "id": "273c289d",
   "metadata": {},
   "outputs": [
    {
     "name": "stderr",
     "output_type": "stream",
     "text": [
      "C:\\Users\\DELL\\AppData\\Local\\Temp\\ipykernel_23708\\3561159992.py:1: VisibleDeprecationWarning: Creating an ndarray from ragged nested sequences (which is a list-or-tuple of lists-or-tuples-or ndarrays with different lengths or shapes) is deprecated. If you meant to do this, you must specify 'dtype=object' when creating the ndarray.\n",
      "  audio_features=np.array(audio_features)\n"
     ]
    }
   ],
   "source": [
    "audio_features=np.array(audio_features)\n",
    "labels=np.array(labels)"
   ]
  },
  {
   "cell_type": "code",
   "execution_count": 29,
   "id": "2e9dfe44",
   "metadata": {},
   "outputs": [],
   "source": [
    "new_shape=(2990,13)\n",
    "\n",
    "new_audio_features=[]\n",
    "for i in audio_features:\n",
    "    new_audio_features.append(i[:new_shape[0], :new_shape[1]].reshape(new_shape))\n",
    "\n"
   ]
  },
  {
   "cell_type": "code",
   "execution_count": 9,
   "id": "a0275249",
   "metadata": {},
   "outputs": [
    {
     "data": {
      "text/plain": [
       "(51,)"
      ]
     },
     "execution_count": 9,
     "metadata": {},
     "output_type": "execute_result"
    }
   ],
   "source": [
    "audio_features.shape"
   ]
  },
  {
   "cell_type": "code",
   "execution_count": 10,
   "id": "52239a5e",
   "metadata": {},
   "outputs": [
    {
     "data": {
      "text/plain": [
       "()"
      ]
     },
     "execution_count": 10,
     "metadata": {},
     "output_type": "execute_result"
    }
   ],
   "source": [
    "labels[0].shape"
   ]
  },
  {
   "cell_type": "code",
   "execution_count": 13,
   "id": "e37bd4e5",
   "metadata": {},
   "outputs": [],
   "source": [
    "from sklearn.model_selection import train_test_split\n",
    "x_train, x_test, y_train, y_test=train_test_split(audio_features,labels, test_size=0.2, random_state=0)"
   ]
  },
  {
   "cell_type": "code",
   "execution_count": 14,
   "id": "c6156099",
   "metadata": {},
   "outputs": [
    {
     "data": {
      "text/plain": [
       "(40,)"
      ]
     },
     "execution_count": 14,
     "metadata": {},
     "output_type": "execute_result"
    }
   ],
   "source": [
    "x_train.shape"
   ]
  },
  {
   "cell_type": "code",
   "execution_count": 15,
   "id": "4e067dcb",
   "metadata": {},
   "outputs": [
    {
     "data": {
      "text/plain": [
       "(11,)"
      ]
     },
     "execution_count": 15,
     "metadata": {},
     "output_type": "execute_result"
    }
   ],
   "source": [
    "x_test.shape"
   ]
  },
  {
   "cell_type": "code",
   "execution_count": 16,
   "id": "a1b531a9",
   "metadata": {},
   "outputs": [],
   "source": [
    "import tensorflow as tf\n",
    "from tensorflow import keras\n",
    "from tensorflow.keras import layers, models"
   ]
  },
  {
   "cell_type": "code",
   "execution_count": 17,
   "id": "92246f59",
   "metadata": {},
   "outputs": [
    {
     "ename": "IndexError",
     "evalue": "tuple index out of range",
     "output_type": "error",
     "traceback": [
      "\u001b[1;31m---------------------------------------------------------------------------\u001b[0m",
      "\u001b[1;31mIndexError\u001b[0m                                Traceback (most recent call last)",
      "Input \u001b[1;32mIn [17]\u001b[0m, in \u001b[0;36m<cell line: 1>\u001b[1;34m()\u001b[0m\n\u001b[0;32m      1\u001b[0m model\u001b[38;5;241m=\u001b[39mmodels\u001b[38;5;241m.\u001b[39mSequential([\n\u001b[1;32m----> 2\u001b[0m     layers\u001b[38;5;241m.\u001b[39mConv2D(\u001b[38;5;241m32\u001b[39m, kernel_size\u001b[38;5;241m=\u001b[39m(\u001b[38;5;241m3\u001b[39m,\u001b[38;5;241m3\u001b[39m), activation\u001b[38;5;241m=\u001b[39m\u001b[38;5;124m\"\u001b[39m\u001b[38;5;124mrelu\u001b[39m\u001b[38;5;124m\"\u001b[39m, input_shape\u001b[38;5;241m=\u001b[39m(\u001b[43maudio_features\u001b[49m\u001b[38;5;241;43m.\u001b[39;49m\u001b[43mshape\u001b[49m\u001b[43m[\u001b[49m\u001b[38;5;241;43m1\u001b[39;49m\u001b[43m]\u001b[49m, audio_features\u001b[38;5;241m.\u001b[39mshape[\u001b[38;5;241m2\u001b[39m],\u001b[38;5;241m1\u001b[39m))\n\u001b[0;32m      3\u001b[0m ])\n",
      "\u001b[1;31mIndexError\u001b[0m: tuple index out of range"
     ]
    }
   ],
   "source": [
    "model=models.Sequential([\n",
    "    layers.Conv2D(32, kernel_size=(3,3), activation=\"relu\", input_shape=(audio_features.shape[1], audio_features.shape[2],1))\n",
    "])"
   ]
  },
  {
   "cell_type": "code",
   "execution_count": null,
   "id": "7f5b61a9",
   "metadata": {},
   "outputs": [],
   "source": []
  }
 ],
 "metadata": {
  "kernelspec": {
   "display_name": "Python 3 (ipykernel)",
   "language": "python",
   "name": "python3"
  },
  "language_info": {
   "codemirror_mode": {
    "name": "ipython",
    "version": 3
   },
   "file_extension": ".py",
   "mimetype": "text/x-python",
   "name": "python",
   "nbconvert_exporter": "python",
   "pygments_lexer": "ipython3",
   "version": "3.10.5"
  }
 },
 "nbformat": 4,
 "nbformat_minor": 5
}
