{
 "cells": [
  {
   "cell_type": "code",
   "execution_count": 1,
   "id": "ea3789ec",
   "metadata": {},
   "outputs": [],
   "source": [
    "import numpy as np\n",
    "import pandas as pd\n",
    "import matplotlib.pyplot as plt\n",
    "from python_speech_features import mfcc\n",
    "import scipy.io.wavfile as wav\n",
    "from tempfile import TemporaryFile\n",
    "import os\n",
    "import pickle\n",
    "import random \n",
    "import operator\n",
    "import math"
   ]
  },
  {
   "cell_type": "code",
   "execution_count": 2,
   "id": "66f0d582",
   "metadata": {},
   "outputs": [],
   "source": [
    "audio_features=[]\n",
    "labels=[]"
   ]
  },
  {
   "cell_type": "code",
   "execution_count": 3,
   "id": "26cfcb73",
   "metadata": {},
   "outputs": [],
   "source": [
    "def extract_features(file_path):\n",
    "    (rate, sig)=wav.read(file_path)\n",
    "    mfcc_feat=mfcc(sig, rate, winlen=0.020, appendEnergy = False)\n",
    "    return  mfcc_feat"
   ]
  },
  {
   "cell_type": "code",
   "execution_count": 4,
   "id": "c0e20e35",
   "metadata": {},
   "outputs": [
    {
     "name": "stdout",
     "output_type": "stream",
     "text": [
      "[[ 52.32772636  12.27974663 -14.05910548 ...  -0.2150729   10.56329052\n",
      "   -7.87888343]\n",
      " [ 54.98108456  16.45550208 -19.12696735 ... -11.48633547   3.45238194\n",
      "   -7.25151242]\n",
      " [ 62.43432252   2.47227707  -2.81401672 ... -10.43204984  -2.66200942\n",
      "    2.29782969]\n",
      " ...\n",
      " [ 77.41351398  -3.69330514   2.91007987 ... -10.29548132   3.28747789\n",
      "    8.65780958]\n",
      " [ 77.4757659   -5.02653026   5.39881623 ... -10.59178905   0.9218981\n",
      "    5.95638195]\n",
      " [ 76.60870935  -3.13448805   5.46082437 ... -13.14580229  -0.44330338\n",
      "    8.73963484]]\n"
     ]
    }
   ],
   "source": [
    "print(extract_features(\"data/blues/blues.00001.wav\"))"
   ]
  },
  {
   "cell_type": "code",
   "execution_count": 5,
   "id": "cfe7adc7",
   "metadata": {},
   "outputs": [],
   "source": [
    "folder_path=\"data/\"\n",
    "genres=os.listdir(folder_path)\n",
    "d={}\n",
    "count=0\n",
    "for folder in genres:\n",
    "    subfolder_path=os.path.join(folder_path, folder)\n",
    "    lists=os.listdir(subfolder_path)\n",
    "    for j in lists:\n",
    "        song_path=os.path.join(subfolder_path, j)\n",
    "        audio_features.append(extract_features(song_path))\n",
    "        if (folder not in d):\n",
    "            d[folder]=count\n",
    "            count+=1\n",
    "         \n",
    "        labels.append(d[folder])\n"
   ]
  },
  {
   "cell_type": "code",
   "execution_count": 6,
   "id": "30095a16",
   "metadata": {},
   "outputs": [
    {
     "name": "stdout",
     "output_type": "stream",
     "text": [
      "[0, 0, 0, 0, 0, 0, 0, 0, 0, 0, 0, 1, 1, 1, 1, 1, 1, 1, 1, 1, 1, 2, 2, 2, 2, 2, 2, 2, 2, 2, 2, 3, 3, 3, 3, 3, 3, 3, 3, 3, 3, 4, 4, 4, 4, 4, 4, 4, 4, 4, 4]\n"
     ]
    }
   ],
   "source": [
    "print(labels)"
   ]
  },
  {
   "cell_type": "code",
   "execution_count": 7,
   "id": "609156b8",
   "metadata": {},
   "outputs": [
    {
     "data": {
      "text/plain": [
       "5"
      ]
     },
     "execution_count": 7,
     "metadata": {},
     "output_type": "execute_result"
    }
   ],
   "source": [
    "dict_len=len(d)\n",
    "dict_len"
   ]
  },
  {
   "cell_type": "code",
   "execution_count": 8,
   "id": "ff0e9d25",
   "metadata": {},
   "outputs": [
    {
     "name": "stdout",
     "output_type": "stream",
     "text": [
      "(2994, 13)\n"
     ]
    }
   ],
   "source": [
    "print(audio_features[4].shape)"
   ]
  },
  {
   "cell_type": "code",
   "execution_count": 9,
   "id": "f49bf00f",
   "metadata": {},
   "outputs": [
    {
     "name": "stderr",
     "output_type": "stream",
     "text": [
      "C:\\Users\\DELL\\AppData\\Local\\Temp\\ipykernel_24736\\3561159992.py:1: VisibleDeprecationWarning: Creating an ndarray from ragged nested sequences (which is a list-or-tuple of lists-or-tuples-or ndarrays with different lengths or shapes) is deprecated. If you meant to do this, you must specify 'dtype=object' when creating the ndarray.\n",
      "  audio_features=np.array(audio_features)\n"
     ]
    }
   ],
   "source": [
    "audio_features=np.array(audio_features)\n",
    "labels=np.array(labels)"
   ]
  },
  {
   "cell_type": "code",
   "execution_count": 10,
   "id": "3653301f",
   "metadata": {},
   "outputs": [],
   "source": [
    "new_shape=(2990,13)\n",
    "\n",
    "new_audio_features=[]\n",
    "for i in audio_features:\n",
    "    new_audio_features.append(i[:new_shape[0], :new_shape[1]].reshape(new_shape))"
   ]
  },
  {
   "cell_type": "code",
   "execution_count": 11,
   "id": "46f7b5ac",
   "metadata": {},
   "outputs": [],
   "source": [
    "new_audio_features=np.array(new_audio_features)"
   ]
  },
  {
   "cell_type": "code",
   "execution_count": 12,
   "id": "7ce63d97",
   "metadata": {},
   "outputs": [
    {
     "data": {
      "text/plain": [
       "(51, 2990, 13)"
      ]
     },
     "execution_count": 12,
     "metadata": {},
     "output_type": "execute_result"
    }
   ],
   "source": [
    "new_audio_features.shape"
   ]
  },
  {
   "cell_type": "code",
   "execution_count": 13,
   "id": "b01173b5",
   "metadata": {},
   "outputs": [
    {
     "data": {
      "text/plain": [
       "()"
      ]
     },
     "execution_count": 13,
     "metadata": {},
     "output_type": "execute_result"
    }
   ],
   "source": [
    "labels[0].shape"
   ]
  },
  {
   "cell_type": "code",
   "execution_count": 14,
   "id": "71e25183",
   "metadata": {},
   "outputs": [],
   "source": [
    "from keras.utils.np_utils import to_categorical"
   ]
  },
  {
   "cell_type": "code",
   "execution_count": 15,
   "id": "cda00ba8",
   "metadata": {},
   "outputs": [],
   "source": [
    "labels=to_categorical(labels)"
   ]
  },
  {
   "cell_type": "code",
   "execution_count": 16,
   "id": "ce5a5664",
   "metadata": {},
   "outputs": [],
   "source": [
    "from sklearn.model_selection import train_test_split\n",
    "x_train, x_test, y_train, y_test=train_test_split(new_audio_features,labels, test_size=0.2, random_state=0)"
   ]
  },
  {
   "cell_type": "code",
   "execution_count": 17,
   "id": "c4177fa5",
   "metadata": {},
   "outputs": [
    {
     "data": {
      "text/plain": [
       "(40, 2990, 13)"
      ]
     },
     "execution_count": 17,
     "metadata": {},
     "output_type": "execute_result"
    }
   ],
   "source": [
    "x_train.shape"
   ]
  },
  {
   "cell_type": "code",
   "execution_count": 18,
   "id": "4d484650",
   "metadata": {},
   "outputs": [
    {
     "data": {
      "text/plain": [
       "(11, 2990, 13)"
      ]
     },
     "execution_count": 18,
     "metadata": {},
     "output_type": "execute_result"
    }
   ],
   "source": [
    "x_test.shape"
   ]
  },
  {
   "cell_type": "code",
   "execution_count": 19,
   "id": "4190e1b1",
   "metadata": {},
   "outputs": [],
   "source": [
    "import tensorflow as tf\n",
    "from tensorflow import keras\n",
    "from tensorflow.keras import layers, models"
   ]
  },
  {
   "cell_type": "code",
   "execution_count": 20,
   "id": "d26903fe",
   "metadata": {},
   "outputs": [],
   "source": [
    "model=models.Sequential([\n",
    "    layers.Conv2D(64, kernel_size=(3,3), activation=\"relu\", input_shape=(new_audio_features.shape[1], new_audio_features.shape[2],1)),\n",
    "    layers.MaxPool2D(pool_size=2,strides=2 ),\n",
    "    layers.Conv2D(32, kernel_size=(3,3), activation=\"relu\",),\n",
    "    layers.MaxPool2D(pool_size=2,strides=2 ),\n",
    "    layers.Flatten(),\n",
    "    layers.Dense(units=128, activation=\"relu\"),\n",
    "    layers.Dense(units=64, activation=\"relu\"),\n",
    "    layers.Dense(units=dict_len, activation=\"softmax\")\n",
    "])"
   ]
  },
  {
   "cell_type": "code",
   "execution_count": 21,
   "id": "4f79b520",
   "metadata": {},
   "outputs": [
    {
     "name": "stdout",
     "output_type": "stream",
     "text": [
      "Model: \"sequential\"\n",
      "_________________________________________________________________\n",
      " Layer (type)                Output Shape              Param #   \n",
      "=================================================================\n",
      " conv2d (Conv2D)             (None, 2988, 11, 64)      640       \n",
      "                                                                 \n",
      " max_pooling2d (MaxPooling2  (None, 1494, 5, 64)       0         \n",
      " D)                                                              \n",
      "                                                                 \n",
      " conv2d_1 (Conv2D)           (None, 1492, 3, 32)       18464     \n",
      "                                                                 \n",
      " max_pooling2d_1 (MaxPoolin  (None, 746, 1, 32)        0         \n",
      " g2D)                                                            \n",
      "                                                                 \n",
      " flatten (Flatten)           (None, 23872)             0         \n",
      "                                                                 \n",
      " dense (Dense)               (None, 128)               3055744   \n",
      "                                                                 \n",
      " dense_1 (Dense)             (None, 64)                8256      \n",
      "                                                                 \n",
      " dense_2 (Dense)             (None, 5)                 325       \n",
      "                                                                 \n",
      "=================================================================\n",
      "Total params: 3083429 (11.76 MB)\n",
      "Trainable params: 3083429 (11.76 MB)\n",
      "Non-trainable params: 0 (0.00 Byte)\n",
      "_________________________________________________________________\n"
     ]
    }
   ],
   "source": [
    "model.summary()"
   ]
  },
  {
   "cell_type": "code",
   "execution_count": 26,
   "id": "e4269c1d",
   "metadata": {},
   "outputs": [],
   "source": [
    "model.compile(optimizer=\"adam\", loss=\"categorical_crossentropy\", metrics=[\"accuracy\"])"
   ]
  },
  {
   "cell_type": "code",
   "execution_count": 27,
   "id": "8ee81933",
   "metadata": {},
   "outputs": [
    {
     "name": "stdout",
     "output_type": "stream",
     "text": [
      "Epoch 1/10\n",
      "2/2 [==============================] - 3s 280ms/step - loss: 0.9033 - accuracy: 0.8250\n",
      "Epoch 2/10\n",
      "2/2 [==============================] - 2s 347ms/step - loss: 0.1641 - accuracy: 0.9500\n",
      "Epoch 3/10\n",
      "2/2 [==============================] - 1s 281ms/step - loss: 0.6237 - accuracy: 0.7500\n",
      "Epoch 4/10\n",
      "2/2 [==============================] - 1s 276ms/step - loss: 0.4311 - accuracy: 0.8000\n",
      "Epoch 5/10\n",
      "2/2 [==============================] - 1s 271ms/step - loss: 0.3530 - accuracy: 0.8750\n",
      "Epoch 6/10\n",
      "2/2 [==============================] - 1s 287ms/step - loss: 0.2387 - accuracy: 0.9750\n",
      "Epoch 7/10\n",
      "2/2 [==============================] - 1s 252ms/step - loss: 0.1869 - accuracy: 0.9750\n",
      "Epoch 8/10\n",
      "2/2 [==============================] - 1s 239ms/step - loss: 0.1128 - accuracy: 1.0000\n",
      "Epoch 9/10\n",
      "2/2 [==============================] - 1s 228ms/step - loss: 0.0684 - accuracy: 1.0000\n",
      "Epoch 10/10\n",
      "2/2 [==============================] - 1s 231ms/step - loss: 0.0334 - accuracy: 1.0000\n"
     ]
    },
    {
     "data": {
      "text/plain": [
       "<keras.src.callbacks.History at 0x1c72e0c6800>"
      ]
     },
     "execution_count": 27,
     "metadata": {},
     "output_type": "execute_result"
    }
   ],
   "source": [
    "model.fit(x_train, y_train , epochs=10)"
   ]
  },
  {
   "cell_type": "code",
   "execution_count": 34,
   "id": "e64c7455",
   "metadata": {},
   "outputs": [],
   "source": [
    "test_data=extract_features(\"data/test_set/blues.00016.wav\")"
   ]
  },
  {
   "cell_type": "code",
   "execution_count": 35,
   "id": "de2f9cde",
   "metadata": {},
   "outputs": [],
   "source": [
    "test_data=test_data[:new_shape[0], :new_shape[1]].reshape(new_shape)"
   ]
  },
  {
   "cell_type": "code",
   "execution_count": 36,
   "id": "baa42d31",
   "metadata": {},
   "outputs": [
    {
     "data": {
      "text/plain": [
       "(2990, 13)"
      ]
     },
     "execution_count": 36,
     "metadata": {},
     "output_type": "execute_result"
    }
   ],
   "source": [
    "test_data.shape"
   ]
  },
  {
   "cell_type": "code",
   "execution_count": 38,
   "id": "cc3cdbda",
   "metadata": {},
   "outputs": [],
   "source": [
    "test_set=[]\n",
    "test_set.append(test_data)"
   ]
  },
  {
   "cell_type": "code",
   "execution_count": 39,
   "id": "d8dc4d37",
   "metadata": {},
   "outputs": [],
   "source": [
    "test_set=np.array(test_set)"
   ]
  },
  {
   "cell_type": "code",
   "execution_count": 40,
   "id": "4fe1e449",
   "metadata": {},
   "outputs": [
    {
     "data": {
      "text/plain": [
       "(1, 2990, 13)"
      ]
     },
     "execution_count": 40,
     "metadata": {},
     "output_type": "execute_result"
    }
   ],
   "source": [
    "test_set.shape"
   ]
  },
  {
   "cell_type": "code",
   "execution_count": 42,
   "id": "07607720",
   "metadata": {},
   "outputs": [
    {
     "name": "stdout",
     "output_type": "stream",
     "text": [
      "1/1 [==============================] - 0s 49ms/step\n"
     ]
    }
   ],
   "source": [
    "y_pred=model.predict(test_set)"
   ]
  },
  {
   "cell_type": "code",
   "execution_count": 43,
   "id": "ae220898",
   "metadata": {},
   "outputs": [
    {
     "data": {
      "text/plain": [
       "3"
      ]
     },
     "execution_count": 43,
     "metadata": {},
     "output_type": "execute_result"
    }
   ],
   "source": [
    "np.argmax(y_pred)"
   ]
  },
  {
   "cell_type": "code",
   "execution_count": 49,
   "id": "fb5a3bf0",
   "metadata": {},
   "outputs": [
    {
     "data": {
      "text/plain": [
       "0"
      ]
     },
     "execution_count": 49,
     "metadata": {},
     "output_type": "execute_result"
    }
   ],
   "source": [
    "np.argmax(labels[1])"
   ]
  },
  {
   "cell_type": "code",
   "execution_count": 50,
   "id": "8a013a26",
   "metadata": {},
   "outputs": [
    {
     "data": {
      "text/plain": [
       "array([[0.48287728, 0.10909961, 0.05564116, 0.8173537 , 0.07006252]],\n",
       "      dtype=float32)"
      ]
     },
     "execution_count": 50,
     "metadata": {},
     "output_type": "execute_result"
    }
   ],
   "source": [
    "y_pred"
   ]
  },
  {
   "cell_type": "code",
   "execution_count": null,
   "id": "2c8e3b5f",
   "metadata": {},
   "outputs": [],
   "source": []
  }
 ],
 "metadata": {
  "kernelspec": {
   "display_name": "Python 3 (ipykernel)",
   "language": "python",
   "name": "python3"
  },
  "language_info": {
   "codemirror_mode": {
    "name": "ipython",
    "version": 3
   },
   "file_extension": ".py",
   "mimetype": "text/x-python",
   "name": "python",
   "nbconvert_exporter": "python",
   "pygments_lexer": "ipython3",
   "version": "3.10.5"
  }
 },
 "nbformat": 4,
 "nbformat_minor": 5
}
